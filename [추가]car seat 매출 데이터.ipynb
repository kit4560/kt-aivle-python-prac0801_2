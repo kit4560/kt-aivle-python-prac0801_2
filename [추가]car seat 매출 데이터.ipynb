{
 "cells": [
  {
   "cell_type": "markdown",
   "metadata": {
    "id": "mTt7qGUTCcFs"
   },
   "source": [
    "# 과제1. car seat 매출 분석"
   ]
  },
  {
   "cell_type": "markdown",
   "metadata": {
    "id": "wxRsRRwbEQ2K"
   },
   "source": [
    "* 카시트에 대해서 지역 매장 별 매출액을 살펴보고자 합니다.\n",
    "* 행은 자사 매장이 있는 각 지역별 데이터 입니다."
   ]
  },
  {
   "cell_type": "markdown",
   "metadata": {
    "id": "7usNzsAVsGbi"
   },
   "source": [
    "![](https://cdn.images.express.co.uk/img/dynamic/24/590x/child-car-seat-986556.jpg?r=1532946857754)"
   ]
  },
  {
   "cell_type": "markdown",
   "metadata": {
    "id": "AHmt88Q5EVsj"
   },
   "source": [
    "## 0.환경설정\n",
    "\n",
    "* 필요한 라이브러리 로딩, 데이터셋 가져오기"
   ]
  },
  {
   "cell_type": "markdown",
   "metadata": {
    "id": "o_4sXwy-tWum"
   },
   "source": [
    "### 1) 라이브러리 로딩"
   ]
  },
  {
   "cell_type": "code",
   "execution_count": 1,
   "metadata": {
    "id": "3rsQerEaELwI"
   },
   "outputs": [],
   "source": [
    "import pandas as pd\n",
    "import numpy as np\n",
    "\n",
    "import matplotlib.pyplot as plt\n",
    "import seaborn as sns"
   ]
  },
  {
   "cell_type": "markdown",
   "metadata": {
    "id": "bYaJQc0ytYt_"
   },
   "source": [
    "### 2) 데이터 불러오기"
   ]
  },
  {
   "cell_type": "code",
   "execution_count": 2,
   "metadata": {
    "colab": {
     "base_uri": "https://localhost:8080/",
     "height": 206
    },
    "executionInfo": {
     "elapsed": 372,
     "status": "ok",
     "timestamp": 1652007491409,
     "user": {
      "displayName": "한기영",
      "userId": "13049187003176135487"
     },
     "user_tz": -540
    },
    "id": "lM3HN6OwEL3d",
    "outputId": "28af0f69-c1ff-405c-a8b7-bca14ed8b943"
   },
   "outputs": [
    {
     "data": {
      "text/html": [
       "<div>\n",
       "<style scoped>\n",
       "    .dataframe tbody tr th:only-of-type {\n",
       "        vertical-align: middle;\n",
       "    }\n",
       "\n",
       "    .dataframe tbody tr th {\n",
       "        vertical-align: top;\n",
       "    }\n",
       "\n",
       "    .dataframe thead th {\n",
       "        text-align: right;\n",
       "    }\n",
       "</style>\n",
       "<table border=\"1\" class=\"dataframe\">\n",
       "  <thead>\n",
       "    <tr style=\"text-align: right;\">\n",
       "      <th></th>\n",
       "      <th>Sales</th>\n",
       "      <th>CompPrice</th>\n",
       "      <th>Income</th>\n",
       "      <th>Advertising</th>\n",
       "      <th>Population</th>\n",
       "      <th>Price</th>\n",
       "      <th>ShelveLoc</th>\n",
       "      <th>Age</th>\n",
       "      <th>Education</th>\n",
       "      <th>Urban</th>\n",
       "      <th>US</th>\n",
       "    </tr>\n",
       "  </thead>\n",
       "  <tbody>\n",
       "    <tr>\n",
       "      <th>0</th>\n",
       "      <td>9.50</td>\n",
       "      <td>138</td>\n",
       "      <td>73</td>\n",
       "      <td>11</td>\n",
       "      <td>276</td>\n",
       "      <td>120</td>\n",
       "      <td>Bad</td>\n",
       "      <td>42</td>\n",
       "      <td>17</td>\n",
       "      <td>Yes</td>\n",
       "      <td>Yes</td>\n",
       "    </tr>\n",
       "    <tr>\n",
       "      <th>1</th>\n",
       "      <td>11.22</td>\n",
       "      <td>111</td>\n",
       "      <td>48</td>\n",
       "      <td>16</td>\n",
       "      <td>260</td>\n",
       "      <td>83</td>\n",
       "      <td>Good</td>\n",
       "      <td>65</td>\n",
       "      <td>10</td>\n",
       "      <td>Yes</td>\n",
       "      <td>Yes</td>\n",
       "    </tr>\n",
       "    <tr>\n",
       "      <th>2</th>\n",
       "      <td>10.06</td>\n",
       "      <td>113</td>\n",
       "      <td>35</td>\n",
       "      <td>10</td>\n",
       "      <td>269</td>\n",
       "      <td>80</td>\n",
       "      <td>Medium</td>\n",
       "      <td>59</td>\n",
       "      <td>12</td>\n",
       "      <td>Yes</td>\n",
       "      <td>Yes</td>\n",
       "    </tr>\n",
       "    <tr>\n",
       "      <th>3</th>\n",
       "      <td>7.40</td>\n",
       "      <td>117</td>\n",
       "      <td>100</td>\n",
       "      <td>4</td>\n",
       "      <td>466</td>\n",
       "      <td>97</td>\n",
       "      <td>Medium</td>\n",
       "      <td>55</td>\n",
       "      <td>14</td>\n",
       "      <td>Yes</td>\n",
       "      <td>Yes</td>\n",
       "    </tr>\n",
       "    <tr>\n",
       "      <th>4</th>\n",
       "      <td>4.15</td>\n",
       "      <td>141</td>\n",
       "      <td>64</td>\n",
       "      <td>3</td>\n",
       "      <td>340</td>\n",
       "      <td>128</td>\n",
       "      <td>Bad</td>\n",
       "      <td>38</td>\n",
       "      <td>13</td>\n",
       "      <td>Yes</td>\n",
       "      <td>No</td>\n",
       "    </tr>\n",
       "  </tbody>\n",
       "</table>\n",
       "</div>"
      ],
      "text/plain": [
       "   Sales  CompPrice  Income  Advertising  Population  Price ShelveLoc  Age  \\\n",
       "0   9.50        138      73           11         276    120       Bad   42   \n",
       "1  11.22        111      48           16         260     83      Good   65   \n",
       "2  10.06        113      35           10         269     80    Medium   59   \n",
       "3   7.40        117     100            4         466     97    Medium   55   \n",
       "4   4.15        141      64            3         340    128       Bad   38   \n",
       "\n",
       "   Education Urban   US  \n",
       "0         17   Yes  Yes  \n",
       "1         10   Yes  Yes  \n",
       "2         12   Yes  Yes  \n",
       "3         14   Yes  Yes  \n",
       "4         13   Yes   No  "
      ]
     },
     "execution_count": 2,
     "metadata": {},
     "output_type": "execute_result"
    }
   ],
   "source": [
    "path = 'https://raw.githubusercontent.com/JunhoYu/Data-Analysis/main/Carseats.csv'\n",
    "data = pd.read_csv(path)\n",
    "data.head()"
   ]
  },
  {
   "cell_type": "markdown",
   "metadata": {
    "id": "IbDZYaFD-qst"
   },
   "source": [
    "|\t변수명\t|\t설명\t|\t구분\t|\n",
    "|\t----\t|\t----\t|\t----\t|\n",
    "|\tSales \t|\t 각 지역 판매량(단위 : 1000개)\t|\tTarget\t|\n",
    "|\tCompPrice \t|\t 각 지역 경쟁사 가격(단위 : 달러)\t|\tfeature\t|\n",
    "|\tIncome \t|\t 각 지역 소득수준(단위 : 천달러)\t|\tfeature\t|\n",
    "|\tAdvertising \t|\t 각 지역, 회사의 광고 예산(단위 : 1000달러)\t|\tfeature\t|\n",
    "|\tPopulation \t|\t 지역 인구수(단위 : 1000명)\t|\tfeature\t|\n",
    "|\tPrice \t|\t 자사 지역별 판매가격(달러)\t|\tfeature\t|\n",
    "|\tEducation \t|\t 교육수준(10~18), 범주\t|\tfeature\t|\n",
    "|\tShelveLoc \t|\t 진열상태(Good, Medium, Bad)\t|\tfeature\t|\n",
    "|\tAge \t|\t 지역 인구의 평균 연령\t|\tfeature\t|\n",
    "|\tUS \t|\t 매장이 미국에 있는지 여부(Yes, No)\t|\tfeature\t|\n",
    "|\tUrban \t|\t 매장이 도심에 있는지 여부(Yes, No)\t|\tfeature\t|\n"
   ]
  },
  {
   "cell_type": "markdown",
   "metadata": {
    "id": "NARa6O55FOOr"
   },
   "source": [
    "## 1.데이터 살펴보기"
   ]
  },
  {
   "cell_type": "markdown",
   "metadata": {
    "id": "SwKsnPEgFQmN"
   },
   "source": [
    "* 주어진 데이터로부터 다양한 조회 방법을 통해 비즈니스 사항을 파악해 봅시다.\n",
    "* 데이터와 비즈니스를 파악하기 위한 질문을 10개 이상 도출하고, 조회해 봅시다."
   ]
  },
  {
   "cell_type": "code",
   "execution_count": 6,
   "metadata": {
    "id": "S6fLTPGoFP9q"
   },
   "outputs": [
    {
     "data": {
      "text/html": [
       "<div>\n",
       "<style scoped>\n",
       "    .dataframe tbody tr th:only-of-type {\n",
       "        vertical-align: middle;\n",
       "    }\n",
       "\n",
       "    .dataframe tbody tr th {\n",
       "        vertical-align: top;\n",
       "    }\n",
       "\n",
       "    .dataframe thead th {\n",
       "        text-align: right;\n",
       "    }\n",
       "</style>\n",
       "<table border=\"1\" class=\"dataframe\">\n",
       "  <thead>\n",
       "    <tr style=\"text-align: right;\">\n",
       "      <th></th>\n",
       "      <th>Sales</th>\n",
       "      <th>CompPrice</th>\n",
       "      <th>Income</th>\n",
       "      <th>Advertising</th>\n",
       "      <th>Population</th>\n",
       "      <th>Price</th>\n",
       "      <th>ShelveLoc</th>\n",
       "      <th>Age</th>\n",
       "      <th>Education</th>\n",
       "      <th>Urban</th>\n",
       "      <th>US</th>\n",
       "    </tr>\n",
       "  </thead>\n",
       "  <tbody>\n",
       "    <tr>\n",
       "      <th>165</th>\n",
       "      <td>0.37</td>\n",
       "      <td>147</td>\n",
       "      <td>58</td>\n",
       "      <td>7</td>\n",
       "      <td>100</td>\n",
       "      <td>191</td>\n",
       "      <td>Bad</td>\n",
       "      <td>27</td>\n",
       "      <td>15</td>\n",
       "      <td>Yes</td>\n",
       "      <td>Yes</td>\n",
       "    </tr>\n",
       "    <tr>\n",
       "      <th>174</th>\n",
       "      <td>0.00</td>\n",
       "      <td>139</td>\n",
       "      <td>24</td>\n",
       "      <td>0</td>\n",
       "      <td>358</td>\n",
       "      <td>185</td>\n",
       "      <td>Medium</td>\n",
       "      <td>79</td>\n",
       "      <td>15</td>\n",
       "      <td>No</td>\n",
       "      <td>No</td>\n",
       "    </tr>\n",
       "    <tr>\n",
       "      <th>191</th>\n",
       "      <td>6.67</td>\n",
       "      <td>156</td>\n",
       "      <td>42</td>\n",
       "      <td>13</td>\n",
       "      <td>170</td>\n",
       "      <td>173</td>\n",
       "      <td>Good</td>\n",
       "      <td>74</td>\n",
       "      <td>14</td>\n",
       "      <td>Yes</td>\n",
       "      <td>Yes</td>\n",
       "    </tr>\n",
       "    <tr>\n",
       "      <th>315</th>\n",
       "      <td>6.39</td>\n",
       "      <td>131</td>\n",
       "      <td>21</td>\n",
       "      <td>8</td>\n",
       "      <td>220</td>\n",
       "      <td>171</td>\n",
       "      <td>Good</td>\n",
       "      <td>29</td>\n",
       "      <td>14</td>\n",
       "      <td>Yes</td>\n",
       "      <td>Yes</td>\n",
       "    </tr>\n",
       "    <tr>\n",
       "      <th>269</th>\n",
       "      <td>5.01</td>\n",
       "      <td>159</td>\n",
       "      <td>69</td>\n",
       "      <td>0</td>\n",
       "      <td>438</td>\n",
       "      <td>166</td>\n",
       "      <td>Medium</td>\n",
       "      <td>46</td>\n",
       "      <td>17</td>\n",
       "      <td>Yes</td>\n",
       "      <td>No</td>\n",
       "    </tr>\n",
       "    <tr>\n",
       "      <th>...</th>\n",
       "      <td>...</td>\n",
       "      <td>...</td>\n",
       "      <td>...</td>\n",
       "      <td>...</td>\n",
       "      <td>...</td>\n",
       "      <td>...</td>\n",
       "      <td>...</td>\n",
       "      <td>...</td>\n",
       "      <td>...</td>\n",
       "      <td>...</td>\n",
       "      <td>...</td>\n",
       "    </tr>\n",
       "    <tr>\n",
       "      <th>171</th>\n",
       "      <td>12.49</td>\n",
       "      <td>93</td>\n",
       "      <td>106</td>\n",
       "      <td>12</td>\n",
       "      <td>416</td>\n",
       "      <td>55</td>\n",
       "      <td>Medium</td>\n",
       "      <td>75</td>\n",
       "      <td>15</td>\n",
       "      <td>Yes</td>\n",
       "      <td>Yes</td>\n",
       "    </tr>\n",
       "    <tr>\n",
       "      <th>313</th>\n",
       "      <td>9.33</td>\n",
       "      <td>103</td>\n",
       "      <td>81</td>\n",
       "      <td>3</td>\n",
       "      <td>491</td>\n",
       "      <td>54</td>\n",
       "      <td>Medium</td>\n",
       "      <td>66</td>\n",
       "      <td>13</td>\n",
       "      <td>Yes</td>\n",
       "      <td>No</td>\n",
       "    </tr>\n",
       "    <tr>\n",
       "      <th>367</th>\n",
       "      <td>14.37</td>\n",
       "      <td>95</td>\n",
       "      <td>106</td>\n",
       "      <td>0</td>\n",
       "      <td>256</td>\n",
       "      <td>53</td>\n",
       "      <td>Good</td>\n",
       "      <td>52</td>\n",
       "      <td>17</td>\n",
       "      <td>Yes</td>\n",
       "      <td>No</td>\n",
       "    </tr>\n",
       "    <tr>\n",
       "      <th>125</th>\n",
       "      <td>9.34</td>\n",
       "      <td>89</td>\n",
       "      <td>78</td>\n",
       "      <td>0</td>\n",
       "      <td>181</td>\n",
       "      <td>49</td>\n",
       "      <td>Medium</td>\n",
       "      <td>43</td>\n",
       "      <td>15</td>\n",
       "      <td>No</td>\n",
       "      <td>No</td>\n",
       "    </tr>\n",
       "    <tr>\n",
       "      <th>42</th>\n",
       "      <td>10.43</td>\n",
       "      <td>77</td>\n",
       "      <td>69</td>\n",
       "      <td>0</td>\n",
       "      <td>25</td>\n",
       "      <td>24</td>\n",
       "      <td>Medium</td>\n",
       "      <td>50</td>\n",
       "      <td>18</td>\n",
       "      <td>Yes</td>\n",
       "      <td>No</td>\n",
       "    </tr>\n",
       "  </tbody>\n",
       "</table>\n",
       "<p>400 rows × 11 columns</p>\n",
       "</div>"
      ],
      "text/plain": [
       "     Sales  CompPrice  Income  Advertising  Population  Price ShelveLoc  Age  \\\n",
       "165   0.37        147      58            7         100    191       Bad   27   \n",
       "174   0.00        139      24            0         358    185    Medium   79   \n",
       "191   6.67        156      42           13         170    173      Good   74   \n",
       "315   6.39        131      21            8         220    171      Good   29   \n",
       "269   5.01        159      69            0         438    166    Medium   46   \n",
       "..     ...        ...     ...          ...         ...    ...       ...  ...   \n",
       "171  12.49         93     106           12         416     55    Medium   75   \n",
       "313   9.33        103      81            3         491     54    Medium   66   \n",
       "367  14.37         95     106            0         256     53      Good   52   \n",
       "125   9.34         89      78            0         181     49    Medium   43   \n",
       "42   10.43         77      69            0          25     24    Medium   50   \n",
       "\n",
       "     Education Urban   US  \n",
       "165         15   Yes  Yes  \n",
       "174         15    No   No  \n",
       "191         14   Yes  Yes  \n",
       "315         14   Yes  Yes  \n",
       "269         17   Yes   No  \n",
       "..         ...   ...  ...  \n",
       "171         15   Yes  Yes  \n",
       "313         13   Yes   No  \n",
       "367         17   Yes   No  \n",
       "125         15    No   No  \n",
       "42          18   Yes   No  \n",
       "\n",
       "[400 rows x 11 columns]"
      ]
     },
     "execution_count": 6,
     "metadata": {},
     "output_type": "execute_result"
    }
   ],
   "source": [
    "data.sort_values(by=['Price', 'Income'], ascending=[False,False])"
   ]
  },
  {
   "cell_type": "code",
   "execution_count": 7,
   "metadata": {
    "id": "8tamDnRKFkrp"
   },
   "outputs": [
    {
     "data": {
      "text/plain": [
       "2998.53"
      ]
     },
     "execution_count": 7,
     "metadata": {},
     "output_type": "execute_result"
    }
   ],
   "source": [
    "data['Sales'].sum()"
   ]
  },
  {
   "cell_type": "code",
   "execution_count": 8,
   "metadata": {
    "id": "OFUHTrBdFkps"
   },
   "outputs": [
    {
     "data": {
      "text/plain": [
       "115.795"
      ]
     },
     "execution_count": 8,
     "metadata": {},
     "output_type": "execute_result"
    }
   ],
   "source": [
    "data['Price'].mean()"
   ]
  },
  {
   "cell_type": "code",
   "execution_count": 9,
   "metadata": {
    "id": "ABysxnNNFkmp"
   },
   "outputs": [
    {
     "data": {
      "text/plain": [
       "RangeIndex(start=0, stop=400, step=1)"
      ]
     },
     "execution_count": 9,
     "metadata": {},
     "output_type": "execute_result"
    }
   ],
   "source": [
    "data.index"
   ]
  },
  {
   "cell_type": "code",
   "execution_count": 11,
   "metadata": {
    "id": "gPednbBmFkj9"
   },
   "outputs": [
    {
     "data": {
      "text/plain": [
       "Sales          float64\n",
       "CompPrice        int64\n",
       "Income           int64\n",
       "Advertising      int64\n",
       "Population       int64\n",
       "Price            int64\n",
       "ShelveLoc       object\n",
       "Age              int64\n",
       "Education        int64\n",
       "Urban           object\n",
       "US              object\n",
       "dtype: object"
      ]
     },
     "execution_count": 11,
     "metadata": {},
     "output_type": "execute_result"
    }
   ],
   "source": [
    "data.dtypes"
   ]
  },
  {
   "cell_type": "code",
   "execution_count": 12,
   "metadata": {
    "id": "IhLAXW8HFkhT"
   },
   "outputs": [
    {
     "data": {
      "text/plain": [
       "array([[9.5, 138, 73, ..., 17, 'Yes', 'Yes'],\n",
       "       [11.22, 111, 48, ..., 10, 'Yes', 'Yes'],\n",
       "       [10.06, 113, 35, ..., 12, 'Yes', 'Yes'],\n",
       "       ...,\n",
       "       [7.41, 162, 26, ..., 18, 'Yes', 'Yes'],\n",
       "       [5.94, 100, 79, ..., 12, 'Yes', 'Yes'],\n",
       "       [9.71, 134, 37, ..., 16, 'Yes', 'Yes']], dtype=object)"
      ]
     },
     "execution_count": 12,
     "metadata": {},
     "output_type": "execute_result"
    }
   ],
   "source": [
    "data.values"
   ]
  },
  {
   "cell_type": "code",
   "execution_count": 13,
   "metadata": {
    "id": "I_C2XunzFkeU"
   },
   "outputs": [
    {
     "data": {
      "text/plain": [
       "['Sales',\n",
       " 'CompPrice',\n",
       " 'Income',\n",
       " 'Advertising',\n",
       " 'Population',\n",
       " 'Price',\n",
       " 'ShelveLoc',\n",
       " 'Age',\n",
       " 'Education',\n",
       " 'Urban',\n",
       " 'US']"
      ]
     },
     "execution_count": 13,
     "metadata": {},
     "output_type": "execute_result"
    }
   ],
   "source": [
    "list(data)"
   ]
  },
  {
   "cell_type": "code",
   "execution_count": 15,
   "metadata": {
    "id": "tu5LUi7HFkbL"
   },
   "outputs": [
    {
     "data": {
      "text/html": [
       "<div>\n",
       "<style scoped>\n",
       "    .dataframe tbody tr th:only-of-type {\n",
       "        vertical-align: middle;\n",
       "    }\n",
       "\n",
       "    .dataframe tbody tr th {\n",
       "        vertical-align: top;\n",
       "    }\n",
       "\n",
       "    .dataframe thead th {\n",
       "        text-align: right;\n",
       "    }\n",
       "</style>\n",
       "<table border=\"1\" class=\"dataframe\">\n",
       "  <thead>\n",
       "    <tr style=\"text-align: right;\">\n",
       "      <th></th>\n",
       "      <th>Sales</th>\n",
       "      <th>CompPrice</th>\n",
       "      <th>Income</th>\n",
       "      <th>Advertising</th>\n",
       "      <th>Population</th>\n",
       "      <th>Price</th>\n",
       "      <th>Age</th>\n",
       "      <th>Education</th>\n",
       "    </tr>\n",
       "  </thead>\n",
       "  <tbody>\n",
       "    <tr>\n",
       "      <th>count</th>\n",
       "      <td>400.000000</td>\n",
       "      <td>400.000000</td>\n",
       "      <td>400.000000</td>\n",
       "      <td>400.000000</td>\n",
       "      <td>400.000000</td>\n",
       "      <td>400.000000</td>\n",
       "      <td>400.000000</td>\n",
       "      <td>400.000000</td>\n",
       "    </tr>\n",
       "    <tr>\n",
       "      <th>mean</th>\n",
       "      <td>7.496325</td>\n",
       "      <td>124.975000</td>\n",
       "      <td>68.657500</td>\n",
       "      <td>6.635000</td>\n",
       "      <td>264.840000</td>\n",
       "      <td>115.795000</td>\n",
       "      <td>53.322500</td>\n",
       "      <td>13.900000</td>\n",
       "    </tr>\n",
       "    <tr>\n",
       "      <th>std</th>\n",
       "      <td>2.824115</td>\n",
       "      <td>15.334512</td>\n",
       "      <td>27.986037</td>\n",
       "      <td>6.650364</td>\n",
       "      <td>147.376436</td>\n",
       "      <td>23.676664</td>\n",
       "      <td>16.200297</td>\n",
       "      <td>2.620528</td>\n",
       "    </tr>\n",
       "    <tr>\n",
       "      <th>min</th>\n",
       "      <td>0.000000</td>\n",
       "      <td>77.000000</td>\n",
       "      <td>21.000000</td>\n",
       "      <td>0.000000</td>\n",
       "      <td>10.000000</td>\n",
       "      <td>24.000000</td>\n",
       "      <td>25.000000</td>\n",
       "      <td>10.000000</td>\n",
       "    </tr>\n",
       "    <tr>\n",
       "      <th>25%</th>\n",
       "      <td>5.390000</td>\n",
       "      <td>115.000000</td>\n",
       "      <td>42.750000</td>\n",
       "      <td>0.000000</td>\n",
       "      <td>139.000000</td>\n",
       "      <td>100.000000</td>\n",
       "      <td>39.750000</td>\n",
       "      <td>12.000000</td>\n",
       "    </tr>\n",
       "    <tr>\n",
       "      <th>50%</th>\n",
       "      <td>7.490000</td>\n",
       "      <td>125.000000</td>\n",
       "      <td>69.000000</td>\n",
       "      <td>5.000000</td>\n",
       "      <td>272.000000</td>\n",
       "      <td>117.000000</td>\n",
       "      <td>54.500000</td>\n",
       "      <td>14.000000</td>\n",
       "    </tr>\n",
       "    <tr>\n",
       "      <th>75%</th>\n",
       "      <td>9.320000</td>\n",
       "      <td>135.000000</td>\n",
       "      <td>91.000000</td>\n",
       "      <td>12.000000</td>\n",
       "      <td>398.500000</td>\n",
       "      <td>131.000000</td>\n",
       "      <td>66.000000</td>\n",
       "      <td>16.000000</td>\n",
       "    </tr>\n",
       "    <tr>\n",
       "      <th>max</th>\n",
       "      <td>16.270000</td>\n",
       "      <td>175.000000</td>\n",
       "      <td>120.000000</td>\n",
       "      <td>29.000000</td>\n",
       "      <td>509.000000</td>\n",
       "      <td>191.000000</td>\n",
       "      <td>80.000000</td>\n",
       "      <td>18.000000</td>\n",
       "    </tr>\n",
       "  </tbody>\n",
       "</table>\n",
       "</div>"
      ],
      "text/plain": [
       "            Sales   CompPrice      Income  Advertising  Population  \\\n",
       "count  400.000000  400.000000  400.000000   400.000000  400.000000   \n",
       "mean     7.496325  124.975000   68.657500     6.635000  264.840000   \n",
       "std      2.824115   15.334512   27.986037     6.650364  147.376436   \n",
       "min      0.000000   77.000000   21.000000     0.000000   10.000000   \n",
       "25%      5.390000  115.000000   42.750000     0.000000  139.000000   \n",
       "50%      7.490000  125.000000   69.000000     5.000000  272.000000   \n",
       "75%      9.320000  135.000000   91.000000    12.000000  398.500000   \n",
       "max     16.270000  175.000000  120.000000    29.000000  509.000000   \n",
       "\n",
       "            Price         Age   Education  \n",
       "count  400.000000  400.000000  400.000000  \n",
       "mean   115.795000   53.322500   13.900000  \n",
       "std     23.676664   16.200297    2.620528  \n",
       "min     24.000000   25.000000   10.000000  \n",
       "25%    100.000000   39.750000   12.000000  \n",
       "50%    117.000000   54.500000   14.000000  \n",
       "75%    131.000000   66.000000   16.000000  \n",
       "max    191.000000   80.000000   18.000000  "
      ]
     },
     "execution_count": 15,
     "metadata": {},
     "output_type": "execute_result"
    }
   ],
   "source": [
    "data.describe()"
   ]
  },
  {
   "cell_type": "code",
   "execution_count": null,
   "metadata": {},
   "outputs": [],
   "source": []
  }
 ],
 "metadata": {
  "colab": {
   "collapsed_sections": [],
   "name": "[추가]car seat 매출 데이터.ipynb",
   "provenance": [],
   "toc_visible": true
  },
  "kernelspec": {
   "display_name": "Python 3",
   "language": "python",
   "name": "python3"
  },
  "language_info": {
   "codemirror_mode": {
    "name": "ipython",
    "version": 3
   },
   "file_extension": ".py",
   "mimetype": "text/x-python",
   "name": "python",
   "nbconvert_exporter": "python",
   "pygments_lexer": "ipython3",
   "version": "3.8.8"
  }
 },
 "nbformat": 4,
 "nbformat_minor": 4
}
